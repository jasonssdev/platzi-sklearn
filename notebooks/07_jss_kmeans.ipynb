{
 "cells": [
  {
   "cell_type": "code",
   "execution_count": 3,
   "id": "cc7eb419",
   "metadata": {},
   "outputs": [],
   "source": [
    "import pandas as pd\n",
    "import numpy as np\n",
    "import matplotlib.pyplot as plt\n",
    "import seaborn as sns\n",
    "from pathlib import Path\n",
    "\n",
    "from sklearn.cluster import MiniBatchKMeans\n",
    "\n",
    "from utils.paths import DATA_RAW_DIR"
   ]
  },
  {
   "cell_type": "code",
   "execution_count": 4,
   "id": "97539473",
   "metadata": {},
   "outputs": [
    {
     "name": "stdout",
     "output_type": "stream",
     "text": [
      "True\n"
     ]
    }
   ],
   "source": [
    "path_candy = str(DATA_RAW_DIR / \"candy.csv\")\n",
    "print(Path(path_candy).exists())"
   ]
  },
  {
   "cell_type": "code",
   "execution_count": 5,
   "id": "38270efe",
   "metadata": {},
   "outputs": [
    {
     "data": {
      "application/vnd.microsoft.datawrangler.viewer.v0+json": {
       "columns": [
        {
         "name": "index",
         "rawType": "int64",
         "type": "integer"
        },
        {
         "name": "competitorname",
         "rawType": "object",
         "type": "string"
        },
        {
         "name": "chocolate",
         "rawType": "int64",
         "type": "integer"
        },
        {
         "name": "fruity",
         "rawType": "int64",
         "type": "integer"
        },
        {
         "name": "caramel",
         "rawType": "int64",
         "type": "integer"
        },
        {
         "name": "peanutyalmondy",
         "rawType": "int64",
         "type": "integer"
        },
        {
         "name": "nougat",
         "rawType": "int64",
         "type": "integer"
        },
        {
         "name": "crispedricewafer",
         "rawType": "int64",
         "type": "integer"
        },
        {
         "name": "hard",
         "rawType": "int64",
         "type": "integer"
        },
        {
         "name": "bar",
         "rawType": "int64",
         "type": "integer"
        },
        {
         "name": "pluribus",
         "rawType": "int64",
         "type": "integer"
        },
        {
         "name": "sugarpercent",
         "rawType": "float64",
         "type": "float"
        },
        {
         "name": "pricepercent",
         "rawType": "float64",
         "type": "float"
        },
        {
         "name": "winpercent",
         "rawType": "float64",
         "type": "float"
        }
       ],
       "ref": "5a15f7fe-f77d-4d42-80d0-c436a021d065",
       "rows": [
        [
         "0",
         "100 Grand",
         "1",
         "0",
         "1",
         "0",
         "0",
         "1",
         "0",
         "1",
         "0",
         "0.73199999",
         "0.86000001",
         "66.971725"
        ],
        [
         "1",
         "3 Musketeers",
         "1",
         "0",
         "0",
         "0",
         "1",
         "0",
         "0",
         "1",
         "0",
         "0.60399997",
         "0.51099998",
         "67.602936"
        ],
        [
         "2",
         "One dime",
         "0",
         "0",
         "0",
         "0",
         "0",
         "0",
         "0",
         "0",
         "0",
         "0.011",
         "0.116",
         "32.261086"
        ],
        [
         "3",
         "One quarter",
         "0",
         "0",
         "0",
         "0",
         "0",
         "0",
         "0",
         "0",
         "0",
         "0.011",
         "0.51099998",
         "46.116505"
        ],
        [
         "4",
         "Air Heads",
         "0",
         "1",
         "0",
         "0",
         "0",
         "0",
         "0",
         "0",
         "0",
         "0.90600002",
         "0.51099998",
         "52.341465"
        ]
       ],
       "shape": {
        "columns": 13,
        "rows": 5
       }
      },
      "text/html": [
       "<div>\n",
       "<style scoped>\n",
       "    .dataframe tbody tr th:only-of-type {\n",
       "        vertical-align: middle;\n",
       "    }\n",
       "\n",
       "    .dataframe tbody tr th {\n",
       "        vertical-align: top;\n",
       "    }\n",
       "\n",
       "    .dataframe thead th {\n",
       "        text-align: right;\n",
       "    }\n",
       "</style>\n",
       "<table border=\"1\" class=\"dataframe\">\n",
       "  <thead>\n",
       "    <tr style=\"text-align: right;\">\n",
       "      <th></th>\n",
       "      <th>competitorname</th>\n",
       "      <th>chocolate</th>\n",
       "      <th>fruity</th>\n",
       "      <th>caramel</th>\n",
       "      <th>peanutyalmondy</th>\n",
       "      <th>nougat</th>\n",
       "      <th>crispedricewafer</th>\n",
       "      <th>hard</th>\n",
       "      <th>bar</th>\n",
       "      <th>pluribus</th>\n",
       "      <th>sugarpercent</th>\n",
       "      <th>pricepercent</th>\n",
       "      <th>winpercent</th>\n",
       "    </tr>\n",
       "  </thead>\n",
       "  <tbody>\n",
       "    <tr>\n",
       "      <th>0</th>\n",
       "      <td>100 Grand</td>\n",
       "      <td>1</td>\n",
       "      <td>0</td>\n",
       "      <td>1</td>\n",
       "      <td>0</td>\n",
       "      <td>0</td>\n",
       "      <td>1</td>\n",
       "      <td>0</td>\n",
       "      <td>1</td>\n",
       "      <td>0</td>\n",
       "      <td>0.732</td>\n",
       "      <td>0.860</td>\n",
       "      <td>66.971725</td>\n",
       "    </tr>\n",
       "    <tr>\n",
       "      <th>1</th>\n",
       "      <td>3 Musketeers</td>\n",
       "      <td>1</td>\n",
       "      <td>0</td>\n",
       "      <td>0</td>\n",
       "      <td>0</td>\n",
       "      <td>1</td>\n",
       "      <td>0</td>\n",
       "      <td>0</td>\n",
       "      <td>1</td>\n",
       "      <td>0</td>\n",
       "      <td>0.604</td>\n",
       "      <td>0.511</td>\n",
       "      <td>67.602936</td>\n",
       "    </tr>\n",
       "    <tr>\n",
       "      <th>2</th>\n",
       "      <td>One dime</td>\n",
       "      <td>0</td>\n",
       "      <td>0</td>\n",
       "      <td>0</td>\n",
       "      <td>0</td>\n",
       "      <td>0</td>\n",
       "      <td>0</td>\n",
       "      <td>0</td>\n",
       "      <td>0</td>\n",
       "      <td>0</td>\n",
       "      <td>0.011</td>\n",
       "      <td>0.116</td>\n",
       "      <td>32.261086</td>\n",
       "    </tr>\n",
       "    <tr>\n",
       "      <th>3</th>\n",
       "      <td>One quarter</td>\n",
       "      <td>0</td>\n",
       "      <td>0</td>\n",
       "      <td>0</td>\n",
       "      <td>0</td>\n",
       "      <td>0</td>\n",
       "      <td>0</td>\n",
       "      <td>0</td>\n",
       "      <td>0</td>\n",
       "      <td>0</td>\n",
       "      <td>0.011</td>\n",
       "      <td>0.511</td>\n",
       "      <td>46.116505</td>\n",
       "    </tr>\n",
       "    <tr>\n",
       "      <th>4</th>\n",
       "      <td>Air Heads</td>\n",
       "      <td>0</td>\n",
       "      <td>1</td>\n",
       "      <td>0</td>\n",
       "      <td>0</td>\n",
       "      <td>0</td>\n",
       "      <td>0</td>\n",
       "      <td>0</td>\n",
       "      <td>0</td>\n",
       "      <td>0</td>\n",
       "      <td>0.906</td>\n",
       "      <td>0.511</td>\n",
       "      <td>52.341465</td>\n",
       "    </tr>\n",
       "  </tbody>\n",
       "</table>\n",
       "</div>"
      ],
      "text/plain": [
       "  competitorname  chocolate  fruity  caramel  peanutyalmondy  nougat  \\\n",
       "0      100 Grand          1       0        1               0       0   \n",
       "1   3 Musketeers          1       0        0               0       1   \n",
       "2       One dime          0       0        0               0       0   \n",
       "3    One quarter          0       0        0               0       0   \n",
       "4      Air Heads          0       1        0               0       0   \n",
       "\n",
       "   crispedricewafer  hard  bar  pluribus  sugarpercent  pricepercent  \\\n",
       "0                 1     0    1         0         0.732         0.860   \n",
       "1                 0     0    1         0         0.604         0.511   \n",
       "2                 0     0    0         0         0.011         0.116   \n",
       "3                 0     0    0         0         0.011         0.511   \n",
       "4                 0     0    0         0         0.906         0.511   \n",
       "\n",
       "   winpercent  \n",
       "0   66.971725  \n",
       "1   67.602936  \n",
       "2   32.261086  \n",
       "3   46.116505  \n",
       "4   52.341465  "
      ]
     },
     "execution_count": 5,
     "metadata": {},
     "output_type": "execute_result"
    }
   ],
   "source": [
    "df_candy = pd.read_csv(path_candy, sep=\",\", encoding=\"utf-8\")\n",
    "df_candy.head()"
   ]
  },
  {
   "cell_type": "code",
   "execution_count": 6,
   "id": "ab23c6f0",
   "metadata": {},
   "outputs": [
    {
     "data": {
      "application/vnd.microsoft.datawrangler.viewer.v0+json": {
       "columns": [
        {
         "name": "index",
         "rawType": "object",
         "type": "string"
        },
        {
         "name": "0",
         "rawType": "int64",
         "type": "integer"
        }
       ],
       "ref": "a041a127-463d-4e48-8bd7-9f39a8444c67",
       "rows": [
        [
         "competitorname",
         "0"
        ],
        [
         "chocolate",
         "0"
        ],
        [
         "fruity",
         "0"
        ],
        [
         "caramel",
         "0"
        ],
        [
         "peanutyalmondy",
         "0"
        ],
        [
         "nougat",
         "0"
        ],
        [
         "crispedricewafer",
         "0"
        ],
        [
         "hard",
         "0"
        ],
        [
         "bar",
         "0"
        ],
        [
         "pluribus",
         "0"
        ],
        [
         "sugarpercent",
         "0"
        ],
        [
         "pricepercent",
         "0"
        ],
        [
         "winpercent",
         "0"
        ]
       ],
       "shape": {
        "columns": 1,
        "rows": 13
       }
      },
      "text/plain": [
       "competitorname      0\n",
       "chocolate           0\n",
       "fruity              0\n",
       "caramel             0\n",
       "peanutyalmondy      0\n",
       "nougat              0\n",
       "crispedricewafer    0\n",
       "hard                0\n",
       "bar                 0\n",
       "pluribus            0\n",
       "sugarpercent        0\n",
       "pricepercent        0\n",
       "winpercent          0\n",
       "dtype: int64"
      ]
     },
     "execution_count": 6,
     "metadata": {},
     "output_type": "execute_result"
    }
   ],
   "source": [
    "df_candy.isnull().sum()"
   ]
  },
  {
   "cell_type": "code",
   "execution_count": 7,
   "id": "1d0feaa4",
   "metadata": {},
   "outputs": [
    {
     "data": {
      "text/plain": [
       "np.int64(0)"
      ]
     },
     "execution_count": 7,
     "metadata": {},
     "output_type": "execute_result"
    }
   ],
   "source": [
    "df_candy.duplicated().sum()"
   ]
  },
  {
   "cell_type": "code",
   "execution_count": 8,
   "id": "e2414f73",
   "metadata": {},
   "outputs": [
    {
     "name": "stdout",
     "output_type": "stream",
     "text": [
      "<class 'pandas.core.frame.DataFrame'>\n",
      "RangeIndex: 85 entries, 0 to 84\n",
      "Data columns (total 13 columns):\n",
      " #   Column            Non-Null Count  Dtype  \n",
      "---  ------            --------------  -----  \n",
      " 0   competitorname    85 non-null     object \n",
      " 1   chocolate         85 non-null     int64  \n",
      " 2   fruity            85 non-null     int64  \n",
      " 3   caramel           85 non-null     int64  \n",
      " 4   peanutyalmondy    85 non-null     int64  \n",
      " 5   nougat            85 non-null     int64  \n",
      " 6   crispedricewafer  85 non-null     int64  \n",
      " 7   hard              85 non-null     int64  \n",
      " 8   bar               85 non-null     int64  \n",
      " 9   pluribus          85 non-null     int64  \n",
      " 10  sugarpercent      85 non-null     float64\n",
      " 11  pricepercent      85 non-null     float64\n",
      " 12  winpercent        85 non-null     float64\n",
      "dtypes: float64(3), int64(9), object(1)\n",
      "memory usage: 8.8+ KB\n"
     ]
    }
   ],
   "source": [
    "df_candy.info()"
   ]
  },
  {
   "cell_type": "markdown",
   "id": "df07e03c",
   "metadata": {},
   "source": [
    "## Unsupervisor Model"
   ]
  },
  {
   "cell_type": "code",
   "execution_count": 9,
   "id": "bd7f9b27",
   "metadata": {},
   "outputs": [
    {
     "data": {
      "text/plain": [
       "Index(['competitorname', 'chocolate', 'fruity', 'caramel', 'peanutyalmondy',\n",
       "       'nougat', 'crispedricewafer', 'hard', 'bar', 'pluribus', 'sugarpercent',\n",
       "       'pricepercent', 'winpercent'],\n",
       "      dtype='object')"
      ]
     },
     "execution_count": 9,
     "metadata": {},
     "output_type": "execute_result"
    }
   ],
   "source": [
    "df_candy.columns"
   ]
  },
  {
   "cell_type": "code",
   "execution_count": 10,
   "id": "e02f938a",
   "metadata": {},
   "outputs": [
    {
     "data": {
      "application/vnd.microsoft.datawrangler.viewer.v0+json": {
       "columns": [
        {
         "name": "index",
         "rawType": "object",
         "type": "string"
        },
        {
         "name": "0",
         "rawType": "object",
         "type": "unknown"
        }
       ],
       "ref": "ec3e16aa-ecce-45e1-8f7b-b264c6a7f3cd",
       "rows": [
        [
         "competitorname",
         "object"
        ],
        [
         "chocolate",
         "int64"
        ],
        [
         "fruity",
         "int64"
        ],
        [
         "caramel",
         "int64"
        ],
        [
         "peanutyalmondy",
         "int64"
        ],
        [
         "nougat",
         "int64"
        ],
        [
         "crispedricewafer",
         "int64"
        ],
        [
         "hard",
         "int64"
        ],
        [
         "bar",
         "int64"
        ],
        [
         "pluribus",
         "int64"
        ],
        [
         "sugarpercent",
         "float64"
        ],
        [
         "pricepercent",
         "float64"
        ],
        [
         "winpercent",
         "float64"
        ]
       ],
       "shape": {
        "columns": 1,
        "rows": 13
       }
      },
      "text/plain": [
       "competitorname       object\n",
       "chocolate             int64\n",
       "fruity                int64\n",
       "caramel               int64\n",
       "peanutyalmondy        int64\n",
       "nougat                int64\n",
       "crispedricewafer      int64\n",
       "hard                  int64\n",
       "bar                   int64\n",
       "pluribus              int64\n",
       "sugarpercent        float64\n",
       "pricepercent        float64\n",
       "winpercent          float64\n",
       "dtype: object"
      ]
     },
     "execution_count": 10,
     "metadata": {},
     "output_type": "execute_result"
    }
   ],
   "source": [
    "df_candy.dtypes"
   ]
  },
  {
   "cell_type": "code",
   "execution_count": 11,
   "id": "412a1dd8",
   "metadata": {},
   "outputs": [],
   "source": [
    "X = df_candy.drop(columns=[\"competitorname\"], axis=1)\n"
   ]
  },
  {
   "cell_type": "code",
   "execution_count": null,
   "id": "e9f54e7c",
   "metadata": {},
   "outputs": [
    {
     "data": {
      "application/vnd.microsoft.datawrangler.viewer.v0+json": {
       "columns": [
        {
         "name": "index",
         "rawType": "int64",
         "type": "integer"
        },
        {
         "name": "competitorname",
         "rawType": "object",
         "type": "string"
        },
        {
         "name": "chocolate",
         "rawType": "int64",
         "type": "integer"
        },
        {
         "name": "fruity",
         "rawType": "int64",
         "type": "integer"
        },
        {
         "name": "caramel",
         "rawType": "int64",
         "type": "integer"
        },
        {
         "name": "peanutyalmondy",
         "rawType": "int64",
         "type": "integer"
        },
        {
         "name": "nougat",
         "rawType": "int64",
         "type": "integer"
        },
        {
         "name": "crispedricewafer",
         "rawType": "int64",
         "type": "integer"
        },
        {
         "name": "hard",
         "rawType": "int64",
         "type": "integer"
        },
        {
         "name": "bar",
         "rawType": "int64",
         "type": "integer"
        },
        {
         "name": "pluribus",
         "rawType": "int64",
         "type": "integer"
        },
        {
         "name": "sugarpercent",
         "rawType": "float64",
         "type": "float"
        },
        {
         "name": "pricepercent",
         "rawType": "float64",
         "type": "float"
        },
        {
         "name": "winpercent",
         "rawType": "float64",
         "type": "float"
        },
        {
         "name": "cluster",
         "rawType": "int32",
         "type": "integer"
        },
        {
         "name": "cluster_y",
         "rawType": "int32",
         "type": "integer"
        }
       ],
       "ref": "a5ade6a0-53d6-4e22-96ad-4e3957ec3141",
       "rows": [
        [
         "0",
         "100 Grand",
         "1",
         "0",
         "1",
         "0",
         "0",
         "1",
         "0",
         "1",
         "0",
         "0.73199999",
         "0.86000001",
         "66.971725",
         "2",
         "2"
        ],
        [
         "1",
         "3 Musketeers",
         "1",
         "0",
         "0",
         "0",
         "1",
         "0",
         "0",
         "1",
         "0",
         "0.60399997",
         "0.51099998",
         "67.602936",
         "2",
         "2"
        ],
        [
         "2",
         "One dime",
         "0",
         "0",
         "0",
         "0",
         "0",
         "0",
         "0",
         "0",
         "0",
         "0.011",
         "0.116",
         "32.261086",
         "1",
         "1"
        ],
        [
         "3",
         "One quarter",
         "0",
         "0",
         "0",
         "0",
         "0",
         "0",
         "0",
         "0",
         "0",
         "0.011",
         "0.51099998",
         "46.116505",
         "3",
         "3"
        ],
        [
         "4",
         "Air Heads",
         "0",
         "1",
         "0",
         "0",
         "0",
         "0",
         "0",
         "0",
         "0",
         "0.90600002",
         "0.51099998",
         "52.341465",
         "3",
         "3"
        ]
       ],
       "shape": {
        "columns": 15,
        "rows": 5
       }
      },
      "text/html": [
       "<div>\n",
       "<style scoped>\n",
       "    .dataframe tbody tr th:only-of-type {\n",
       "        vertical-align: middle;\n",
       "    }\n",
       "\n",
       "    .dataframe tbody tr th {\n",
       "        vertical-align: top;\n",
       "    }\n",
       "\n",
       "    .dataframe thead th {\n",
       "        text-align: right;\n",
       "    }\n",
       "</style>\n",
       "<table border=\"1\" class=\"dataframe\">\n",
       "  <thead>\n",
       "    <tr style=\"text-align: right;\">\n",
       "      <th></th>\n",
       "      <th>competitorname</th>\n",
       "      <th>chocolate</th>\n",
       "      <th>fruity</th>\n",
       "      <th>caramel</th>\n",
       "      <th>peanutyalmondy</th>\n",
       "      <th>nougat</th>\n",
       "      <th>crispedricewafer</th>\n",
       "      <th>hard</th>\n",
       "      <th>bar</th>\n",
       "      <th>pluribus</th>\n",
       "      <th>sugarpercent</th>\n",
       "      <th>pricepercent</th>\n",
       "      <th>winpercent</th>\n",
       "      <th>cluster</th>\n",
       "      <th>cluster_y</th>\n",
       "    </tr>\n",
       "  </thead>\n",
       "  <tbody>\n",
       "    <tr>\n",
       "      <th>0</th>\n",
       "      <td>100 Grand</td>\n",
       "      <td>1</td>\n",
       "      <td>0</td>\n",
       "      <td>1</td>\n",
       "      <td>0</td>\n",
       "      <td>0</td>\n",
       "      <td>1</td>\n",
       "      <td>0</td>\n",
       "      <td>1</td>\n",
       "      <td>0</td>\n",
       "      <td>0.732</td>\n",
       "      <td>0.860</td>\n",
       "      <td>66.971725</td>\n",
       "      <td>2</td>\n",
       "      <td>2</td>\n",
       "    </tr>\n",
       "    <tr>\n",
       "      <th>1</th>\n",
       "      <td>3 Musketeers</td>\n",
       "      <td>1</td>\n",
       "      <td>0</td>\n",
       "      <td>0</td>\n",
       "      <td>0</td>\n",
       "      <td>1</td>\n",
       "      <td>0</td>\n",
       "      <td>0</td>\n",
       "      <td>1</td>\n",
       "      <td>0</td>\n",
       "      <td>0.604</td>\n",
       "      <td>0.511</td>\n",
       "      <td>67.602936</td>\n",
       "      <td>2</td>\n",
       "      <td>2</td>\n",
       "    </tr>\n",
       "    <tr>\n",
       "      <th>2</th>\n",
       "      <td>One dime</td>\n",
       "      <td>0</td>\n",
       "      <td>0</td>\n",
       "      <td>0</td>\n",
       "      <td>0</td>\n",
       "      <td>0</td>\n",
       "      <td>0</td>\n",
       "      <td>0</td>\n",
       "      <td>0</td>\n",
       "      <td>0</td>\n",
       "      <td>0.011</td>\n",
       "      <td>0.116</td>\n",
       "      <td>32.261086</td>\n",
       "      <td>1</td>\n",
       "      <td>1</td>\n",
       "    </tr>\n",
       "    <tr>\n",
       "      <th>3</th>\n",
       "      <td>One quarter</td>\n",
       "      <td>0</td>\n",
       "      <td>0</td>\n",
       "      <td>0</td>\n",
       "      <td>0</td>\n",
       "      <td>0</td>\n",
       "      <td>0</td>\n",
       "      <td>0</td>\n",
       "      <td>0</td>\n",
       "      <td>0</td>\n",
       "      <td>0.011</td>\n",
       "      <td>0.511</td>\n",
       "      <td>46.116505</td>\n",
       "      <td>3</td>\n",
       "      <td>3</td>\n",
       "    </tr>\n",
       "    <tr>\n",
       "      <th>4</th>\n",
       "      <td>Air Heads</td>\n",
       "      <td>0</td>\n",
       "      <td>1</td>\n",
       "      <td>0</td>\n",
       "      <td>0</td>\n",
       "      <td>0</td>\n",
       "      <td>0</td>\n",
       "      <td>0</td>\n",
       "      <td>0</td>\n",
       "      <td>0</td>\n",
       "      <td>0.906</td>\n",
       "      <td>0.511</td>\n",
       "      <td>52.341465</td>\n",
       "      <td>3</td>\n",
       "      <td>3</td>\n",
       "    </tr>\n",
       "  </tbody>\n",
       "</table>\n",
       "</div>"
      ],
      "text/plain": [
       "  competitorname  chocolate  fruity  caramel  peanutyalmondy  nougat  \\\n",
       "0      100 Grand          1       0        1               0       0   \n",
       "1   3 Musketeers          1       0        0               0       1   \n",
       "2       One dime          0       0        0               0       0   \n",
       "3    One quarter          0       0        0               0       0   \n",
       "4      Air Heads          0       1        0               0       0   \n",
       "\n",
       "   crispedricewafer  hard  bar  pluribus  sugarpercent  pricepercent  \\\n",
       "0                 1     0    1         0         0.732         0.860   \n",
       "1                 0     0    1         0         0.604         0.511   \n",
       "2                 0     0    0         0         0.011         0.116   \n",
       "3                 0     0    0         0         0.011         0.511   \n",
       "4                 0     0    0         0         0.906         0.511   \n",
       "\n",
       "   winpercent  cluster  cluster_y  \n",
       "0   66.971725        2          2  \n",
       "1   67.602936        2          2  \n",
       "2   32.261086        1          1  \n",
       "3   46.116505        3          3  \n",
       "4   52.341465        3          3  "
      ]
     },
     "execution_count": 12,
     "metadata": {},
     "output_type": "execute_result"
    }
   ],
   "source": [
    "# k-means clustering\n",
    "\n",
    "model_kmeans = MiniBatchKMeans(n_clusters=4, batch_size=8, random_state=42)\n",
    "model_kmeans.fit(X)\n",
    "df_candy[\"cluster\"] = model_kmeans.labels_\n",
    "y_pred = model_kmeans.predict(X)\n",
    "df_candy[\"cluster_y\"] = y_pred\n",
    "\n",
    "df_candy.head()\n"
   ]
  },
  {
   "cell_type": "code",
   "execution_count": 18,
   "id": "aff49bd1",
   "metadata": {},
   "outputs": [
    {
     "name": "stdout",
     "output_type": "stream",
     "text": [
      "Centroids:\n",
      "   chocolate    fruity   caramel  peanutyalmondy    nougat  crispedricewafer  \\\n",
      "0   0.666667  0.333333  0.273810        0.107143  0.071429          0.273810   \n",
      "1   0.141026  0.500000  0.089744        0.051282  0.038462          0.000000   \n",
      "2   1.000000  0.000000  0.192308        0.692308  0.230769          0.115385   \n",
      "3   0.212121  0.727273  0.030303        0.060606  0.030303          0.030303   \n",
      "\n",
      "       hard       bar  pluribus  sugarpercent  pricepercent  winpercent  \n",
      "0  0.047619  0.476190  0.523810      0.531952      0.571583   59.966278  \n",
      "1  0.333333  0.038462  0.641026      0.429090      0.364590   33.984691  \n",
      "2  0.000000  0.384615  0.461538      0.566250      0.624923   73.825731  \n",
      "3  0.272727  0.121212  0.515152      0.480303      0.373970   46.735260  \n"
     ]
    }
   ],
   "source": [
    "# centroids\n",
    "centroids = model_kmeans.cluster_centers_\n",
    "centroids_df = pd.DataFrame(centroids, columns=X.columns)\n",
    "print(\"Centroids:\")\n",
    "print(centroids_df)"
   ]
  },
  {
   "cell_type": "code",
   "execution_count": 13,
   "id": "28ecbe4b",
   "metadata": {},
   "outputs": [],
   "source": [
    "df_candy['diff'] = df_candy['cluster'] - df_candy['cluster_y']"
   ]
  },
  {
   "cell_type": "code",
   "execution_count": 15,
   "id": "ccb40e9b",
   "metadata": {},
   "outputs": [
    {
     "data": {
      "text/plain": [
       "np.int64(0)"
      ]
     },
     "execution_count": 15,
     "metadata": {},
     "output_type": "execute_result"
    }
   ],
   "source": [
    "df_candy['diff'].sum()"
   ]
  },
  {
   "cell_type": "markdown",
   "id": "181d7acb",
   "metadata": {},
   "source": [
    "There is not difference between \n",
    "```python\n",
    "# .labels_ property\n",
    "df_candy[\"cluster\"] = model_kmeans.labels_ # Option after fit model\n",
    "# prediction\n",
    "y_pred = model_kmeans.predict(X) # option with new data\n",
    "```"
   ]
  },
  {
   "cell_type": "code",
   "execution_count": 17,
   "id": "d0fe610a",
   "metadata": {},
   "outputs": [
    {
     "data": {
      "image/png": "[encoded data removed]",
      "text/plain": [
       "<Figure size 1000x600 with 1 Axes>"
      ]
     },
     "metadata": {},
     "output_type": "display_data"
    }
   ],
   "source": [
    "# Visualization\n",
    "plt.figure(figsize=(10, 6))\n",
    "sns.scatterplot(data=df_candy, x='sugarpercent', y='pricepercent',\n",
    "                hue='cluster', palette='viridis', markers=['o', 's'])\n",
    "plt.title('K-means Clustering of Candy Data')\n",
    "plt.xlabel('Sugar Percentage')\n",
    "plt.ylabel('Price Percentage')\n",
    "plt.legend(title='Cluster')\n",
    "plt.show()"
   ]
  },
  {
   "cell_type": "code",
   "execution_count": 19,
   "id": "8e8c3128",
   "metadata": {},
   "outputs": [
    {
     "data": {
      "image/png": "[encoded data removed]",
      "text/plain": [
       "<Figure size 1000x600 with 1 Axes>"
      ]
     },
     "metadata": {},
     "output_type": "display_data"
    }
   ],
   "source": [
    "# visualization centroids\n",
    "plt.figure(figsize=(10, 6))\n",
    "sns.scatterplot(data=df_candy, x='sugarpercent', y='pricepercent',\n",
    "                hue='cluster', palette='viridis', markers=['o', 's'])\n",
    "plt.scatter(centroids[:, 0], centroids[:, 1], s=200, c='red', marker='X', label='Centroids')\n",
    "plt.title('K-means Clustering of Candy Data with Centroids')\n",
    "plt.xlabel('Sugar Percentage')\n",
    "plt.ylabel('Price Percentage')\n",
    "plt.legend(title='Cluster')\n",
    "plt.show()"
   ]
  },
  {
   "cell_type": "code",
   "execution_count": null,
   "id": "5f83c548",
   "metadata": {},
   "outputs": [],
   "source": []
  }
 ],
 "metadata": {
  "kernelspec": {
   "display_name": "ml-py3.12",
   "language": "python",
   "name": "python3"
  },
  "language_info": {
   "codemirror_mode": {
    "name": "ipython",
    "version": 3
   },
   "file_extension": ".py",
   "mimetype": "text/x-python",
   "name": "python",
   "nbconvert_exporter": "python",
   "pygments_lexer": "ipython3",
   "version": "3.12.2"
  }
 },
 "nbformat": 4,
 "nbformat_minor": 5
}
