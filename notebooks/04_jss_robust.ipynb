{
 "cells": [
  {
   "cell_type": "code",
   "execution_count": 1,
   "id": "c3a61d02",
   "metadata": {},
   "outputs": [],
   "source": [
    "import pandas as pd\n",
    "import numpy as np\n",
    "import matplotlib.pyplot as plt\n",
    "import seaborn as sns\n",
    "from sklearn.decomposition import PCA, KernelPCA\n",
    "from sklearn.decomposition import IncrementalPCA\n",
    "from sklearn.preprocessing import StandardScaler\n",
    "from sklearn.model_selection import train_test_split\n",
    "from pathlib import Path\n",
    "from sklearn.metrics import classification_report, confusion_matrix, accuracy_score, mean_squared_error\n",
    "from sklearn.linear_model import LogisticRegression, LinearRegression, Lasso, Ridge, ElasticNet, RANSACRegressor, HuberRegressor\n",
    "from sklearn.svm import SVR\n",
    "\n",
    "from utils.paths import DATA_RAW_DIR"
   ]
  },
  {
   "cell_type": "code",
   "execution_count": 3,
   "id": "b0cc1a42",
   "metadata": {},
   "outputs": [
    {
     "name": "stdout",
     "output_type": "stream",
     "text": [
      "True\n"
     ]
    }
   ],
   "source": [
    "path_happiness_corrupt = str(DATA_RAW_DIR / \"happiness_corrupt.csv\")\n",
    "print(Path(path_happiness_corrupt).exists())"
   ]
  },
  {
   "cell_type": "code",
   "execution_count": 4,
   "id": "d62073b5",
   "metadata": {},
   "outputs": [
    {
     "data": {
      "application/vnd.microsoft.datawrangler.viewer.v0+json": {
       "columns": [
        {
         "name": "index",
         "rawType": "int64",
         "type": "integer"
        },
        {
         "name": "country",
         "rawType": "object",
         "type": "string"
        },
        {
         "name": "rank",
         "rawType": "int64",
         "type": "integer"
        },
        {
         "name": "score",
         "rawType": "float64",
         "type": "float"
        },
        {
         "name": "high",
         "rawType": "float64",
         "type": "float"
        },
        {
         "name": "low",
         "rawType": "float64",
         "type": "float"
        },
        {
         "name": "gdp",
         "rawType": "float64",
         "type": "float"
        },
        {
         "name": "family",
         "rawType": "float64",
         "type": "float"
        },
        {
         "name": "lifexp",
         "rawType": "float64",
         "type": "float"
        },
        {
         "name": "freedom",
         "rawType": "float64",
         "type": "float"
        },
        {
         "name": "generosity",
         "rawType": "float64",
         "type": "float"
        },
        {
         "name": "corruption",
         "rawType": "float64",
         "type": "float"
        },
        {
         "name": "dystopia",
         "rawType": "float64",
         "type": "float"
        }
       ],
       "ref": "dd579d80-8f8e-48b7-a045-6c8d4b9d06db",
       "rows": [
        [
         "0",
         "Norway",
         "1",
         "7.537000179",
         "7.594444821",
         "7.479555538",
         "1.616463184",
         "1.53352356",
         "0.796666503",
         "0.635422587",
         "0.362012237",
         "0.315963835",
         "2.277026653"
        ],
        [
         "1",
         "Denmark",
         "2",
         "7.521999836",
         "7.581728065",
         "7.462271607",
         "1.482383013",
         "1.551121593",
         "0.792565525",
         "0.626006722",
         "0.355280489",
         "0.400770068",
         "2.313707352"
        ],
        [
         "2",
         "Iceland",
         "3",
         "7.504000187",
         "7.622030473",
         "7.385969901",
         "1.48063302",
         "1.610574007",
         "0.833552122",
         "0.627162635",
         "0.475540221",
         "0.153526559",
         "2.322715282"
        ],
        [
         "3",
         "Switzerland",
         "4",
         "7.493999958",
         "7.56177242",
         "7.426227496",
         "1.564979553",
         "1.516911745",
         "0.858131289",
         "0.620070577",
         "0.290549278",
         "0.367007285",
         "2.276716232"
        ],
        [
         "4",
         "Finland",
         "5",
         "7.468999863",
         "7.527542076",
         "7.41045765",
         "1.443571925",
         "1.540246725",
         "0.80915767",
         "0.617950857",
         "0.245482773",
         "0.382611543",
         "2.430181503"
        ]
       ],
       "shape": {
        "columns": 12,
        "rows": 5
       }
      },
      "text/html": [
       "<div>\n",
       "<style scoped>\n",
       "    .dataframe tbody tr th:only-of-type {\n",
       "        vertical-align: middle;\n",
       "    }\n",
       "\n",
       "    .dataframe tbody tr th {\n",
       "        vertical-align: top;\n",
       "    }\n",
       "\n",
       "    .dataframe thead th {\n",
       "        text-align: right;\n",
       "    }\n",
       "</style>\n",
       "<table border=\"1\" class=\"dataframe\">\n",
       "  <thead>\n",
       "    <tr style=\"text-align: right;\">\n",
       "      <th></th>\n",
       "      <th>country</th>\n",
       "      <th>rank</th>\n",
       "      <th>score</th>\n",
       "      <th>high</th>\n",
       "      <th>low</th>\n",
       "      <th>gdp</th>\n",
       "      <th>family</th>\n",
       "      <th>lifexp</th>\n",
       "      <th>freedom</th>\n",
       "      <th>generosity</th>\n",
       "      <th>corruption</th>\n",
       "      <th>dystopia</th>\n",
       "    </tr>\n",
       "  </thead>\n",
       "  <tbody>\n",
       "    <tr>\n",
       "      <th>0</th>\n",
       "      <td>Norway</td>\n",
       "      <td>1</td>\n",
       "      <td>7.537</td>\n",
       "      <td>7.594445</td>\n",
       "      <td>7.479556</td>\n",
       "      <td>1.616463</td>\n",
       "      <td>1.533524</td>\n",
       "      <td>0.796667</td>\n",
       "      <td>0.635423</td>\n",
       "      <td>0.362012</td>\n",
       "      <td>0.315964</td>\n",
       "      <td>2.277027</td>\n",
       "    </tr>\n",
       "    <tr>\n",
       "      <th>1</th>\n",
       "      <td>Denmark</td>\n",
       "      <td>2</td>\n",
       "      <td>7.522</td>\n",
       "      <td>7.581728</td>\n",
       "      <td>7.462272</td>\n",
       "      <td>1.482383</td>\n",
       "      <td>1.551122</td>\n",
       "      <td>0.792566</td>\n",
       "      <td>0.626007</td>\n",
       "      <td>0.355280</td>\n",
       "      <td>0.400770</td>\n",
       "      <td>2.313707</td>\n",
       "    </tr>\n",
       "    <tr>\n",
       "      <th>2</th>\n",
       "      <td>Iceland</td>\n",
       "      <td>3</td>\n",
       "      <td>7.504</td>\n",
       "      <td>7.622030</td>\n",
       "      <td>7.385970</td>\n",
       "      <td>1.480633</td>\n",
       "      <td>1.610574</td>\n",
       "      <td>0.833552</td>\n",
       "      <td>0.627163</td>\n",
       "      <td>0.475540</td>\n",
       "      <td>0.153527</td>\n",
       "      <td>2.322715</td>\n",
       "    </tr>\n",
       "    <tr>\n",
       "      <th>3</th>\n",
       "      <td>Switzerland</td>\n",
       "      <td>4</td>\n",
       "      <td>7.494</td>\n",
       "      <td>7.561772</td>\n",
       "      <td>7.426227</td>\n",
       "      <td>1.564980</td>\n",
       "      <td>1.516912</td>\n",
       "      <td>0.858131</td>\n",
       "      <td>0.620071</td>\n",
       "      <td>0.290549</td>\n",
       "      <td>0.367007</td>\n",
       "      <td>2.276716</td>\n",
       "    </tr>\n",
       "    <tr>\n",
       "      <th>4</th>\n",
       "      <td>Finland</td>\n",
       "      <td>5</td>\n",
       "      <td>7.469</td>\n",
       "      <td>7.527542</td>\n",
       "      <td>7.410458</td>\n",
       "      <td>1.443572</td>\n",
       "      <td>1.540247</td>\n",
       "      <td>0.809158</td>\n",
       "      <td>0.617951</td>\n",
       "      <td>0.245483</td>\n",
       "      <td>0.382612</td>\n",
       "      <td>2.430182</td>\n",
       "    </tr>\n",
       "  </tbody>\n",
       "</table>\n",
       "</div>"
      ],
      "text/plain": [
       "       country  rank  score      high       low       gdp    family    lifexp  \\\n",
       "0       Norway     1  7.537  7.594445  7.479556  1.616463  1.533524  0.796667   \n",
       "1      Denmark     2  7.522  7.581728  7.462272  1.482383  1.551122  0.792566   \n",
       "2      Iceland     3  7.504  7.622030  7.385970  1.480633  1.610574  0.833552   \n",
       "3  Switzerland     4  7.494  7.561772  7.426227  1.564980  1.516912  0.858131   \n",
       "4      Finland     5  7.469  7.527542  7.410458  1.443572  1.540247  0.809158   \n",
       "\n",
       "    freedom  generosity  corruption  dystopia  \n",
       "0  0.635423    0.362012    0.315964  2.277027  \n",
       "1  0.626007    0.355280    0.400770  2.313707  \n",
       "2  0.627163    0.475540    0.153527  2.322715  \n",
       "3  0.620071    0.290549    0.367007  2.276716  \n",
       "4  0.617951    0.245483    0.382612  2.430182  "
      ]
     },
     "execution_count": 4,
     "metadata": {},
     "output_type": "execute_result"
    }
   ],
   "source": [
    "df_happy_corrupt = pd.read_csv(path_happiness_corrupt, sep=\",\", encoding=\"utf-8\")\n",
    "df_happy_corrupt.head()"
   ]
  },
  {
   "cell_type": "code",
   "execution_count": 5,
   "id": "2a6817d4",
   "metadata": {},
   "outputs": [
    {
     "data": {
      "application/vnd.microsoft.datawrangler.viewer.v0+json": {
       "columns": [
        {
         "name": "index",
         "rawType": "object",
         "type": "string"
        },
        {
         "name": "rank",
         "rawType": "float64",
         "type": "float"
        },
        {
         "name": "score",
         "rawType": "float64",
         "type": "float"
        },
        {
         "name": "high",
         "rawType": "float64",
         "type": "float"
        },
        {
         "name": "low",
         "rawType": "float64",
         "type": "float"
        },
        {
         "name": "gdp",
         "rawType": "float64",
         "type": "float"
        },
        {
         "name": "family",
         "rawType": "float64",
         "type": "float"
        },
        {
         "name": "lifexp",
         "rawType": "float64",
         "type": "float"
        },
        {
         "name": "freedom",
         "rawType": "float64",
         "type": "float"
        },
        {
         "name": "generosity",
         "rawType": "float64",
         "type": "float"
        },
        {
         "name": "corruption",
         "rawType": "float64",
         "type": "float"
        },
        {
         "name": "dystopia",
         "rawType": "float64",
         "type": "float"
        }
       ],
       "ref": "ee405d76-a8fe-4021-a539-1fb231a87585",
       "rows": [
        [
         "count",
         "167.0",
         "167.0",
         "167.0",
         "167.0",
         "167.0",
         "167.0",
         "167.0",
         "167.0",
         "167.0",
         "167.0",
         "167.0"
        ],
        [
         "mean",
         "84.0",
         "4.969299402065869",
         "5.060541833574851",
         "4.8780569705628745",
         "0.9139600077604791",
         "1.103467971988024",
         "0.5117234809101797",
         "0.37941213050299405",
         "0.22914334192215569",
         "0.11427325866467067",
         "1.71728658602994"
        ],
        [
         "std",
         "48.35286961494633",
         "1.7636552536629373",
         "1.776309199734486",
         "1.7520390144951261",
         "0.47888020946934734",
         "0.4139946751388184",
         "0.2693247038633296",
         "0.17912194838024337",
         "0.14471378407646623",
         "0.10297980901333874",
         "0.679444451552354"
        ],
        [
         "min",
         "1.0",
         "0.0",
         "0.0",
         "0.0",
         "0.0",
         "0.0",
         "0.0",
         "0.0",
         "0.0",
         "0.0",
         "0.0"
        ],
        [
         "25%",
         "42.5",
         "4.2829999925",
         "4.364666425",
         "4.184505929",
         "0.5623924135",
         "0.9609194395",
         "0.3028130385",
         "0.2655649935",
         "0.129196875",
         "0.0458988605",
         "1.5150128605"
        ],
        [
         "50%",
         "84.0",
         "5.235000134",
         "5.325246169",
         "5.131117521",
         "1.000820398",
         "1.227619052",
         "0.589465201",
         "0.423026294",
         "0.224150658",
         "0.0852421",
         "1.789646149"
        ],
        [
         "75%",
         "125.5",
         "6.077500105",
         "6.179484352499999",
         "5.954941575",
         "1.2915016415",
         "1.4022998215",
         "0.710038543",
         "0.5056830345000001",
         "0.3159591705",
         "0.146236628",
         "2.1109935045"
        ],
        [
         "max",
         "167.0",
         "7.537000179",
         "7.622030473",
         "7.479555538",
         "1.870765686",
         "1.610574007",
         "0.949492395",
         "0.658248663",
         "0.838075161",
         "0.464307785",
         "3.11748457"
        ]
       ],
       "shape": {
        "columns": 11,
        "rows": 8
       }
      },
      "text/html": [
       "<div>\n",
       "<style scoped>\n",
       "    .dataframe tbody tr th:only-of-type {\n",
       "        vertical-align: middle;\n",
       "    }\n",
       "\n",
       "    .dataframe tbody tr th {\n",
       "        vertical-align: top;\n",
       "    }\n",
       "\n",
       "    .dataframe thead th {\n",
       "        text-align: right;\n",
       "    }\n",
       "</style>\n",
       "<table border=\"1\" class=\"dataframe\">\n",
       "  <thead>\n",
       "    <tr style=\"text-align: right;\">\n",
       "      <th></th>\n",
       "      <th>rank</th>\n",
       "      <th>score</th>\n",
       "      <th>high</th>\n",
       "      <th>low</th>\n",
       "      <th>gdp</th>\n",
       "      <th>family</th>\n",
       "      <th>lifexp</th>\n",
       "      <th>freedom</th>\n",
       "      <th>generosity</th>\n",
       "      <th>corruption</th>\n",
       "      <th>dystopia</th>\n",
       "    </tr>\n",
       "  </thead>\n",
       "  <tbody>\n",
       "    <tr>\n",
       "      <th>count</th>\n",
       "      <td>167.00000</td>\n",
       "      <td>167.000000</td>\n",
       "      <td>167.000000</td>\n",
       "      <td>167.000000</td>\n",
       "      <td>167.000000</td>\n",
       "      <td>167.000000</td>\n",
       "      <td>167.000000</td>\n",
       "      <td>167.000000</td>\n",
       "      <td>167.000000</td>\n",
       "      <td>167.000000</td>\n",
       "      <td>167.000000</td>\n",
       "    </tr>\n",
       "    <tr>\n",
       "      <th>mean</th>\n",
       "      <td>84.00000</td>\n",
       "      <td>4.969299</td>\n",
       "      <td>5.060542</td>\n",
       "      <td>4.878057</td>\n",
       "      <td>0.913960</td>\n",
       "      <td>1.103468</td>\n",
       "      <td>0.511723</td>\n",
       "      <td>0.379412</td>\n",
       "      <td>0.229143</td>\n",
       "      <td>0.114273</td>\n",
       "      <td>1.717287</td>\n",
       "    </tr>\n",
       "    <tr>\n",
       "      <th>std</th>\n",
       "      <td>48.35287</td>\n",
       "      <td>1.763655</td>\n",
       "      <td>1.776309</td>\n",
       "      <td>1.752039</td>\n",
       "      <td>0.478880</td>\n",
       "      <td>0.413995</td>\n",
       "      <td>0.269325</td>\n",
       "      <td>0.179122</td>\n",
       "      <td>0.144714</td>\n",
       "      <td>0.102980</td>\n",
       "      <td>0.679444</td>\n",
       "    </tr>\n",
       "    <tr>\n",
       "      <th>min</th>\n",
       "      <td>1.00000</td>\n",
       "      <td>0.000000</td>\n",
       "      <td>0.000000</td>\n",
       "      <td>0.000000</td>\n",
       "      <td>0.000000</td>\n",
       "      <td>0.000000</td>\n",
       "      <td>0.000000</td>\n",
       "      <td>0.000000</td>\n",
       "      <td>0.000000</td>\n",
       "      <td>0.000000</td>\n",
       "      <td>0.000000</td>\n",
       "    </tr>\n",
       "    <tr>\n",
       "      <th>25%</th>\n",
       "      <td>42.50000</td>\n",
       "      <td>4.283000</td>\n",
       "      <td>4.364666</td>\n",
       "      <td>4.184506</td>\n",
       "      <td>0.562392</td>\n",
       "      <td>0.960919</td>\n",
       "      <td>0.302813</td>\n",
       "      <td>0.265565</td>\n",
       "      <td>0.129197</td>\n",
       "      <td>0.045899</td>\n",
       "      <td>1.515013</td>\n",
       "    </tr>\n",
       "    <tr>\n",
       "      <th>50%</th>\n",
       "      <td>84.00000</td>\n",
       "      <td>5.235000</td>\n",
       "      <td>5.325246</td>\n",
       "      <td>5.131118</td>\n",
       "      <td>1.000820</td>\n",
       "      <td>1.227619</td>\n",
       "      <td>0.589465</td>\n",
       "      <td>0.423026</td>\n",
       "      <td>0.224151</td>\n",
       "      <td>0.085242</td>\n",
       "      <td>1.789646</td>\n",
       "    </tr>\n",
       "    <tr>\n",
       "      <th>75%</th>\n",
       "      <td>125.50000</td>\n",
       "      <td>6.077500</td>\n",
       "      <td>6.179484</td>\n",
       "      <td>5.954942</td>\n",
       "      <td>1.291502</td>\n",
       "      <td>1.402300</td>\n",
       "      <td>0.710039</td>\n",
       "      <td>0.505683</td>\n",
       "      <td>0.315959</td>\n",
       "      <td>0.146237</td>\n",
       "      <td>2.110994</td>\n",
       "    </tr>\n",
       "    <tr>\n",
       "      <th>max</th>\n",
       "      <td>167.00000</td>\n",
       "      <td>7.537000</td>\n",
       "      <td>7.622030</td>\n",
       "      <td>7.479556</td>\n",
       "      <td>1.870766</td>\n",
       "      <td>1.610574</td>\n",
       "      <td>0.949492</td>\n",
       "      <td>0.658249</td>\n",
       "      <td>0.838075</td>\n",
       "      <td>0.464308</td>\n",
       "      <td>3.117485</td>\n",
       "    </tr>\n",
       "  </tbody>\n",
       "</table>\n",
       "</div>"
      ],
      "text/plain": [
       "            rank       score        high         low         gdp      family  \\\n",
       "count  167.00000  167.000000  167.000000  167.000000  167.000000  167.000000   \n",
       "mean    84.00000    4.969299    5.060542    4.878057    0.913960    1.103468   \n",
       "std     48.35287    1.763655    1.776309    1.752039    0.478880    0.413995   \n",
       "min      1.00000    0.000000    0.000000    0.000000    0.000000    0.000000   \n",
       "25%     42.50000    4.283000    4.364666    4.184506    0.562392    0.960919   \n",
       "50%     84.00000    5.235000    5.325246    5.131118    1.000820    1.227619   \n",
       "75%    125.50000    6.077500    6.179484    5.954942    1.291502    1.402300   \n",
       "max    167.00000    7.537000    7.622030    7.479556    1.870766    1.610574   \n",
       "\n",
       "           lifexp     freedom  generosity  corruption    dystopia  \n",
       "count  167.000000  167.000000  167.000000  167.000000  167.000000  \n",
       "mean     0.511723    0.379412    0.229143    0.114273    1.717287  \n",
       "std      0.269325    0.179122    0.144714    0.102980    0.679444  \n",
       "min      0.000000    0.000000    0.000000    0.000000    0.000000  \n",
       "25%      0.302813    0.265565    0.129197    0.045899    1.515013  \n",
       "50%      0.589465    0.423026    0.224151    0.085242    1.789646  \n",
       "75%      0.710039    0.505683    0.315959    0.146237    2.110994  \n",
       "max      0.949492    0.658249    0.838075    0.464308    3.117485  "
      ]
     },
     "execution_count": 5,
     "metadata": {},
     "output_type": "execute_result"
    }
   ],
   "source": [
    "df_happy_corrupt.describe()"
   ]
  },
  {
   "cell_type": "code",
   "execution_count": 6,
   "id": "b8a9c0c6",
   "metadata": {},
   "outputs": [],
   "source": [
    "X = df_happy_corrupt.drop(columns=['country', 'score'])\n",
    "y = df_happy_corrupt['score']\n",
    "\n",
    "X_train, X_test, y_train, y_test = train_test_split(X, y, test_size=0.3, random_state=42)"
   ]
  },
  {
   "cell_type": "code",
   "execution_count": 7,
   "id": "178bb85a",
   "metadata": {},
   "outputs": [],
   "source": [
    "estimators = {\n",
    "    # 'LinearRegression': LinearRegression(),\n",
    "    # 'Lasso': Lasso(alpha=1.0),\n",
    "    # 'Ridge': Ridge(alpha=0.5),\n",
    "    # 'ElasticNet': ElasticNet(alpha=1.0, l1_ratio=0.5),\n",
    "    'RANSAC': RANSACRegressor(),\n",
    "    'Huber': HuberRegressor(epsilon=1.35),\n",
    "    'SVR': SVR(gamma='auto', C=1.0, epsilon=0.1)\n",
    "}"
   ]
  },
  {
   "cell_type": "code",
   "execution_count": 12,
   "id": "39ded77e",
   "metadata": {},
   "outputs": [
    {
     "name": "stdout",
     "output_type": "stream",
     "text": [
      "Training RANSAC...\n",
      "Results for RANSAC:\n",
      "Mean Squared Error: 1.28e-19\n",
      "R^2 Score: 1.00\n",
      "\n",
      "\n",
      "Training Huber...\n",
      "Results for Huber:\n",
      "Mean Squared Error: 5.20e-06\n",
      "R^2 Score: 1.00\n",
      "\n",
      "\n",
      "Training SVR...\n",
      "Results for SVR:\n",
      "Mean Squared Error: 7.46e-02\n",
      "R^2 Score: 0.97\n",
      "\n",
      "\n"
     ]
    },
    {
     "name": "stderr",
     "output_type": "stream",
     "text": [
      "/opt/anaconda3/envs/ml-py3.12/lib/python3.12/site-packages/sklearn/linear_model/_huber.py:343: ConvergenceWarning: lbfgs failed to converge (status=1):\n",
      "STOP: TOTAL NO. OF ITERATIONS REACHED LIMIT.\n",
      "\n",
      "Increase the number of iterations (max_iter) or scale the data as shown in:\n",
      "    https://scikit-learn.org/stable/modules/preprocessing.html\n",
      "  self.n_iter_ = _check_optimize_result(\"lbfgs\", opt_res, self.max_iter)\n"
     ]
    }
   ],
   "source": [
    "for name, estimator in estimators.items():\n",
    "    print(f\"Training {name}...\")\n",
    "    estimator.fit(X_train, y_train)\n",
    "    y_pred = estimator.predict(X_test)\n",
    "\n",
    "    mse = mean_squared_error(y_test, y_pred)\n",
    "    r2_score = estimator.score(X_test, y_test)\n",
    "\n",
    "    print(f\"Results for {name}:\")\n",
    "    print(f\"Mean Squared Error: {mse:.2e}\")\n",
    "    print(f\"R^2 Score: {r2_score:.2f}\")\n",
    "    print(\"\\n\")\n"
   ]
  },
  {
   "cell_type": "code",
   "execution_count": null,
   "id": "a0708772",
   "metadata": {},
   "outputs": [],
   "source": []
  }
 ],
 "metadata": {
  "kernelspec": {
   "display_name": "ml-py3.12",
   "language": "python",
   "name": "python3"
  },
  "language_info": {
   "codemirror_mode": {
    "name": "ipython",
    "version": 3
   },
   "file_extension": ".py",
   "mimetype": "text/x-python",
   "name": "python",
   "nbconvert_exporter": "python",
   "pygments_lexer": "ipython3",
   "version": "3.12.2"
  }
 },
 "nbformat": 4,
 "nbformat_minor": 5
}
