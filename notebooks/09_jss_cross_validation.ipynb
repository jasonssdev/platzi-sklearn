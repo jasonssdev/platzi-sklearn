{
 "cells": [
  {
   "cell_type": "code",
   "execution_count": 1,
   "id": "a591d53a",
   "metadata": {},
   "outputs": [],
   "source": [
    "import pandas as pd\n",
    "import numpy as np\n",
    "import matplotlib.pyplot as plt\n",
    "import seaborn as sns\n",
    "from pathlib import Path\n",
    "from sklearn.tree import DecisionTreeRegressor\n",
    "from sklearn.model_selection import (\n",
    "    cross_val_score, KFold\n",
    ")\n",
    "from utils.paths import DATA_RAW_DIR"
   ]
  },
  {
   "cell_type": "code",
   "execution_count": 2,
   "id": "21aad761",
   "metadata": {},
   "outputs": [
    {
     "name": "stdout",
     "output_type": "stream",
     "text": [
      "True\n"
     ]
    },
    {
     "data": {
      "application/vnd.microsoft.datawrangler.viewer.v0+json": {
       "columns": [
        {
         "name": "index",
         "rawType": "int64",
         "type": "integer"
        },
        {
         "name": "country",
         "rawType": "object",
         "type": "string"
        },
        {
         "name": "rank",
         "rawType": "int64",
         "type": "integer"
        },
        {
         "name": "score",
         "rawType": "float64",
         "type": "float"
        },
        {
         "name": "high",
         "rawType": "float64",
         "type": "float"
        },
        {
         "name": "low",
         "rawType": "float64",
         "type": "float"
        },
        {
         "name": "gdp",
         "rawType": "float64",
         "type": "float"
        },
        {
         "name": "family",
         "rawType": "float64",
         "type": "float"
        },
        {
         "name": "lifexp",
         "rawType": "float64",
         "type": "float"
        },
        {
         "name": "freedom",
         "rawType": "float64",
         "type": "float"
        },
        {
         "name": "generosity",
         "rawType": "float64",
         "type": "float"
        },
        {
         "name": "corruption",
         "rawType": "float64",
         "type": "float"
        },
        {
         "name": "dystopia",
         "rawType": "float64",
         "type": "float"
        }
       ],
       "ref": "900101c0-3006-417f-8c1c-e3363896f8ff",
       "rows": [
        [
         "0",
         "Norway",
         "1",
         "7.537000179",
         "7.594444821",
         "7.479555538",
         "1.616463184",
         "1.53352356",
         "0.796666503",
         "0.635422587",
         "0.362012237",
         "0.315963835",
         "2.277026653"
        ],
        [
         "1",
         "Denmark",
         "2",
         "7.521999836",
         "7.581728065",
         "7.462271607",
         "1.482383013",
         "1.551121593",
         "0.792565525",
         "0.626006722",
         "0.355280489",
         "0.400770068",
         "2.313707352"
        ],
        [
         "2",
         "Iceland",
         "3",
         "7.504000187",
         "7.622030473",
         "7.385969901",
         "1.48063302",
         "1.610574007",
         "0.833552122",
         "0.627162635",
         "0.475540221",
         "0.153526559",
         "2.322715282"
        ],
        [
         "3",
         "Switzerland",
         "4",
         "7.493999958",
         "7.56177242",
         "7.426227496",
         "1.564979553",
         "1.516911745",
         "0.858131289",
         "0.620070577",
         "0.290549278",
         "0.367007285",
         "2.276716232"
        ],
        [
         "4",
         "Finland",
         "5",
         "7.468999863",
         "7.527542076",
         "7.41045765",
         "1.443571925",
         "1.540246725",
         "0.80915767",
         "0.617950857",
         "0.245482773",
         "0.382611543",
         "2.430181503"
        ]
       ],
       "shape": {
        "columns": 12,
        "rows": 5
       }
      },
      "text/html": [
       "<div>\n",
       "<style scoped>\n",
       "    .dataframe tbody tr th:only-of-type {\n",
       "        vertical-align: middle;\n",
       "    }\n",
       "\n",
       "    .dataframe tbody tr th {\n",
       "        vertical-align: top;\n",
       "    }\n",
       "\n",
       "    .dataframe thead th {\n",
       "        text-align: right;\n",
       "    }\n",
       "</style>\n",
       "<table border=\"1\" class=\"dataframe\">\n",
       "  <thead>\n",
       "    <tr style=\"text-align: right;\">\n",
       "      <th></th>\n",
       "      <th>country</th>\n",
       "      <th>rank</th>\n",
       "      <th>score</th>\n",
       "      <th>high</th>\n",
       "      <th>low</th>\n",
       "      <th>gdp</th>\n",
       "      <th>family</th>\n",
       "      <th>lifexp</th>\n",
       "      <th>freedom</th>\n",
       "      <th>generosity</th>\n",
       "      <th>corruption</th>\n",
       "      <th>dystopia</th>\n",
       "    </tr>\n",
       "  </thead>\n",
       "  <tbody>\n",
       "    <tr>\n",
       "      <th>0</th>\n",
       "      <td>Norway</td>\n",
       "      <td>1</td>\n",
       "      <td>7.537</td>\n",
       "      <td>7.594445</td>\n",
       "      <td>7.479556</td>\n",
       "      <td>1.616463</td>\n",
       "      <td>1.533524</td>\n",
       "      <td>0.796667</td>\n",
       "      <td>0.635423</td>\n",
       "      <td>0.362012</td>\n",
       "      <td>0.315964</td>\n",
       "      <td>2.277027</td>\n",
       "    </tr>\n",
       "    <tr>\n",
       "      <th>1</th>\n",
       "      <td>Denmark</td>\n",
       "      <td>2</td>\n",
       "      <td>7.522</td>\n",
       "      <td>7.581728</td>\n",
       "      <td>7.462272</td>\n",
       "      <td>1.482383</td>\n",
       "      <td>1.551122</td>\n",
       "      <td>0.792566</td>\n",
       "      <td>0.626007</td>\n",
       "      <td>0.355280</td>\n",
       "      <td>0.400770</td>\n",
       "      <td>2.313707</td>\n",
       "    </tr>\n",
       "    <tr>\n",
       "      <th>2</th>\n",
       "      <td>Iceland</td>\n",
       "      <td>3</td>\n",
       "      <td>7.504</td>\n",
       "      <td>7.622030</td>\n",
       "      <td>7.385970</td>\n",
       "      <td>1.480633</td>\n",
       "      <td>1.610574</td>\n",
       "      <td>0.833552</td>\n",
       "      <td>0.627163</td>\n",
       "      <td>0.475540</td>\n",
       "      <td>0.153527</td>\n",
       "      <td>2.322715</td>\n",
       "    </tr>\n",
       "    <tr>\n",
       "      <th>3</th>\n",
       "      <td>Switzerland</td>\n",
       "      <td>4</td>\n",
       "      <td>7.494</td>\n",
       "      <td>7.561772</td>\n",
       "      <td>7.426227</td>\n",
       "      <td>1.564980</td>\n",
       "      <td>1.516912</td>\n",
       "      <td>0.858131</td>\n",
       "      <td>0.620071</td>\n",
       "      <td>0.290549</td>\n",
       "      <td>0.367007</td>\n",
       "      <td>2.276716</td>\n",
       "    </tr>\n",
       "    <tr>\n",
       "      <th>4</th>\n",
       "      <td>Finland</td>\n",
       "      <td>5</td>\n",
       "      <td>7.469</td>\n",
       "      <td>7.527542</td>\n",
       "      <td>7.410458</td>\n",
       "      <td>1.443572</td>\n",
       "      <td>1.540247</td>\n",
       "      <td>0.809158</td>\n",
       "      <td>0.617951</td>\n",
       "      <td>0.245483</td>\n",
       "      <td>0.382612</td>\n",
       "      <td>2.430182</td>\n",
       "    </tr>\n",
       "  </tbody>\n",
       "</table>\n",
       "</div>"
      ],
      "text/plain": [
       "       country  rank  score      high       low       gdp    family    lifexp  \\\n",
       "0       Norway     1  7.537  7.594445  7.479556  1.616463  1.533524  0.796667   \n",
       "1      Denmark     2  7.522  7.581728  7.462272  1.482383  1.551122  0.792566   \n",
       "2      Iceland     3  7.504  7.622030  7.385970  1.480633  1.610574  0.833552   \n",
       "3  Switzerland     4  7.494  7.561772  7.426227  1.564980  1.516912  0.858131   \n",
       "4      Finland     5  7.469  7.527542  7.410458  1.443572  1.540247  0.809158   \n",
       "\n",
       "    freedom  generosity  corruption  dystopia  \n",
       "0  0.635423    0.362012    0.315964  2.277027  \n",
       "1  0.626007    0.355280    0.400770  2.313707  \n",
       "2  0.627163    0.475540    0.153527  2.322715  \n",
       "3  0.620071    0.290549    0.367007  2.276716  \n",
       "4  0.617951    0.245483    0.382612  2.430182  "
      ]
     },
     "execution_count": 2,
     "metadata": {},
     "output_type": "execute_result"
    }
   ],
   "source": [
    "path_happiness = str(DATA_RAW_DIR / \"happiness.csv\")\n",
    "print(Path(path_happiness).exists())\n",
    "df_happiness = pd.read_csv(path_happiness, sep=\",\", encoding=\"utf-8\")\n",
    "df_happiness.head()"
   ]
  },
  {
   "cell_type": "code",
   "execution_count": 3,
   "id": "565d9f74",
   "metadata": {},
   "outputs": [
    {
     "data": {
      "text/plain": [
       "Index(['country', 'rank', 'score', 'high', 'low', 'gdp', 'family', 'lifexp',\n",
       "       'freedom', 'generosity', 'corruption', 'dystopia'],\n",
       "      dtype='object')"
      ]
     },
     "execution_count": 3,
     "metadata": {},
     "output_type": "execute_result"
    }
   ],
   "source": [
    "df_happiness.columns"
   ]
  },
  {
   "cell_type": "code",
   "execution_count": 5,
   "id": "81e66053",
   "metadata": {},
   "outputs": [],
   "source": [
    "X = df_happiness.drop(columns=[\"country\", \"score\"], axis=1)\n",
    "y = df_happiness[\"score\"]"
   ]
  },
  {
   "cell_type": "code",
   "execution_count": 6,
   "id": "25ce7270",
   "metadata": {},
   "outputs": [
    {
     "name": "stdout",
     "output_type": "stream",
     "text": [
      "Cross-validation scores: [0.0099865  0.00646712 0.00458353]\n",
      "Mean score: 0.007012382022080291\n",
      "Standard deviation of scores: 0.002239198254660346\n"
     ]
    }
   ],
   "source": [
    "# decision tree regressor\n",
    "model_dt = DecisionTreeRegressor()\n",
    "# cross-validation\n",
    "cv = KFold(n_splits=3, shuffle=True, random_state=42)\n",
    "# cross-validation scores\n",
    "scores = cross_val_score(model_dt, X, y, cv=cv, scoring=\"neg_mean_squared_error\")\n",
    "# convert scores to positive\n",
    "scores = -scores\n",
    "# print scores\n",
    "print(\"Cross-validation scores:\", scores)\n",
    "# print mean and standard deviation of scores\n",
    "print(\"Mean score:\", np.mean(scores))\n",
    "print(\"Standard deviation of scores:\", np.std(scores))"
   ]
  },
  {
   "cell_type": "code",
   "execution_count": 7,
   "id": "439c6f50",
   "metadata": {},
   "outputs": [
    {
     "name": "stdout",
     "output_type": "stream",
     "text": [
      "Test score: 0.9945392820969601\n",
      "Test score: 0.9941026006022765\n",
      "Test score: 0.9969124305596853\n"
     ]
    }
   ],
   "source": [
    "kf = KFold(n_splits=3, shuffle=True, random_state=42)\n",
    "for train_index, test_index in kf.split(X):\n",
    "    X_train, X_test = X.iloc[train_index], X.iloc[test_index]\n",
    "    y_train, y_test = y.iloc[train_index], y.iloc[test_index]\n",
    "    \n",
    "    model_dt.fit(X_train, y_train)\n",
    "    score = model_dt.score(X_test, y_test)\n",
    "    print(\"Test score:\", score)"
   ]
  },
  {
   "cell_type": "code",
   "execution_count": 8,
   "id": "70769741",
   "metadata": {},
   "outputs": [
    {
     "data": {
      "image/png": "[encoded data removed]",
      "text/plain": [
       "<Figure size 1000x600 with 1 Axes>"
      ]
     },
     "metadata": {},
     "output_type": "display_data"
    }
   ],
   "source": [
    "# visualization of cross-validation results\n",
    "plt.figure(figsize=(10, 6))\n",
    "sns.boxplot(data=scores, orient=\"h\")\n",
    "plt.title(\"Cross-validation scores\")\n",
    "plt.xlabel(\"Mean Squared Error\")\n",
    "plt.show()"
   ]
  },
  {
   "cell_type": "code",
   "execution_count": null,
   "id": "94a13e57",
   "metadata": {},
   "outputs": [],
   "source": []
  }
 ],
 "metadata": {
  "kernelspec": {
   "display_name": "ml-py3.12",
   "language": "python",
   "name": "python3"
  },
  "language_info": {
   "codemirror_mode": {
    "name": "ipython",
    "version": 3
   },
   "file_extension": ".py",
   "mimetype": "text/x-python",
   "name": "python",
   "nbconvert_exporter": "python",
   "pygments_lexer": "ipython3",
   "version": "3.12.2"
  }
 },
 "nbformat": 4,
 "nbformat_minor": 5
}
