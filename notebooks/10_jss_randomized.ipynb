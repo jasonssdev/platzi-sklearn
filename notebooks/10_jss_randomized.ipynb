{
 "cells": [
  {
   "cell_type": "code",
   "execution_count": 6,
   "id": "edbd2404",
   "metadata": {},
   "outputs": [],
   "source": [
    "import pandas as pd\n",
    "import numpy as np\n",
    "import matplotlib.pyplot as plt\n",
    "import seaborn as sns\n",
    "from pathlib import Path\n",
    "\n",
    "from sklearn.model_selection import RandomizedSearchCV, train_test_split\n",
    "from sklearn.ensemble import RandomForestRegressor\n",
    "\n",
    "from sklearn.metrics import mean_squared_error, r2_score\n",
    "\n",
    "from utils.paths import DATA_RAW_DIR"
   ]
  },
  {
   "cell_type": "code",
   "execution_count": 7,
   "id": "a6913ba2",
   "metadata": {},
   "outputs": [
    {
     "name": "stdout",
     "output_type": "stream",
     "text": [
      "True\n"
     ]
    },
    {
     "data": {
      "application/vnd.microsoft.datawrangler.viewer.v0+json": {
       "columns": [
        {
         "name": "index",
         "rawType": "int64",
         "type": "integer"
        },
        {
         "name": "country",
         "rawType": "object",
         "type": "string"
        },
        {
         "name": "rank",
         "rawType": "int64",
         "type": "integer"
        },
        {
         "name": "score",
         "rawType": "float64",
         "type": "float"
        },
        {
         "name": "high",
         "rawType": "float64",
         "type": "float"
        },
        {
         "name": "low",
         "rawType": "float64",
         "type": "float"
        },
        {
         "name": "gdp",
         "rawType": "float64",
         "type": "float"
        },
        {
         "name": "family",
         "rawType": "float64",
         "type": "float"
        },
        {
         "name": "lifexp",
         "rawType": "float64",
         "type": "float"
        },
        {
         "name": "freedom",
         "rawType": "float64",
         "type": "float"
        },
        {
         "name": "generosity",
         "rawType": "float64",
         "type": "float"
        },
        {
         "name": "corruption",
         "rawType": "float64",
         "type": "float"
        },
        {
         "name": "dystopia",
         "rawType": "float64",
         "type": "float"
        }
       ],
       "ref": "400a4fb6-fdb9-448d-8791-38974ecf68cc",
       "rows": [
        [
         "0",
         "Norway",
         "1",
         "7.537000179",
         "7.594444821",
         "7.479555538",
         "1.616463184",
         "1.53352356",
         "0.796666503",
         "0.635422587",
         "0.362012237",
         "0.315963835",
         "2.277026653"
        ],
        [
         "1",
         "Denmark",
         "2",
         "7.521999836",
         "7.581728065",
         "7.462271607",
         "1.482383013",
         "1.551121593",
         "0.792565525",
         "0.626006722",
         "0.355280489",
         "0.400770068",
         "2.313707352"
        ],
        [
         "2",
         "Iceland",
         "3",
         "7.504000187",
         "7.622030473",
         "7.385969901",
         "1.48063302",
         "1.610574007",
         "0.833552122",
         "0.627162635",
         "0.475540221",
         "0.153526559",
         "2.322715282"
        ],
        [
         "3",
         "Switzerland",
         "4",
         "7.493999958",
         "7.56177242",
         "7.426227496",
         "1.564979553",
         "1.516911745",
         "0.858131289",
         "0.620070577",
         "0.290549278",
         "0.367007285",
         "2.276716232"
        ],
        [
         "4",
         "Finland",
         "5",
         "7.468999863",
         "7.527542076",
         "7.41045765",
         "1.443571925",
         "1.540246725",
         "0.80915767",
         "0.617950857",
         "0.245482773",
         "0.382611543",
         "2.430181503"
        ]
       ],
       "shape": {
        "columns": 12,
        "rows": 5
       }
      },
      "text/html": [
       "<div>\n",
       "<style scoped>\n",
       "    .dataframe tbody tr th:only-of-type {\n",
       "        vertical-align: middle;\n",
       "    }\n",
       "\n",
       "    .dataframe tbody tr th {\n",
       "        vertical-align: top;\n",
       "    }\n",
       "\n",
       "    .dataframe thead th {\n",
       "        text-align: right;\n",
       "    }\n",
       "</style>\n",
       "<table border=\"1\" class=\"dataframe\">\n",
       "  <thead>\n",
       "    <tr style=\"text-align: right;\">\n",
       "      <th></th>\n",
       "      <th>country</th>\n",
       "      <th>rank</th>\n",
       "      <th>score</th>\n",
       "      <th>high</th>\n",
       "      <th>low</th>\n",
       "      <th>gdp</th>\n",
       "      <th>family</th>\n",
       "      <th>lifexp</th>\n",
       "      <th>freedom</th>\n",
       "      <th>generosity</th>\n",
       "      <th>corruption</th>\n",
       "      <th>dystopia</th>\n",
       "    </tr>\n",
       "  </thead>\n",
       "  <tbody>\n",
       "    <tr>\n",
       "      <th>0</th>\n",
       "      <td>Norway</td>\n",
       "      <td>1</td>\n",
       "      <td>7.537</td>\n",
       "      <td>7.594445</td>\n",
       "      <td>7.479556</td>\n",
       "      <td>1.616463</td>\n",
       "      <td>1.533524</td>\n",
       "      <td>0.796667</td>\n",
       "      <td>0.635423</td>\n",
       "      <td>0.362012</td>\n",
       "      <td>0.315964</td>\n",
       "      <td>2.277027</td>\n",
       "    </tr>\n",
       "    <tr>\n",
       "      <th>1</th>\n",
       "      <td>Denmark</td>\n",
       "      <td>2</td>\n",
       "      <td>7.522</td>\n",
       "      <td>7.581728</td>\n",
       "      <td>7.462272</td>\n",
       "      <td>1.482383</td>\n",
       "      <td>1.551122</td>\n",
       "      <td>0.792566</td>\n",
       "      <td>0.626007</td>\n",
       "      <td>0.355280</td>\n",
       "      <td>0.400770</td>\n",
       "      <td>2.313707</td>\n",
       "    </tr>\n",
       "    <tr>\n",
       "      <th>2</th>\n",
       "      <td>Iceland</td>\n",
       "      <td>3</td>\n",
       "      <td>7.504</td>\n",
       "      <td>7.622030</td>\n",
       "      <td>7.385970</td>\n",
       "      <td>1.480633</td>\n",
       "      <td>1.610574</td>\n",
       "      <td>0.833552</td>\n",
       "      <td>0.627163</td>\n",
       "      <td>0.475540</td>\n",
       "      <td>0.153527</td>\n",
       "      <td>2.322715</td>\n",
       "    </tr>\n",
       "    <tr>\n",
       "      <th>3</th>\n",
       "      <td>Switzerland</td>\n",
       "      <td>4</td>\n",
       "      <td>7.494</td>\n",
       "      <td>7.561772</td>\n",
       "      <td>7.426227</td>\n",
       "      <td>1.564980</td>\n",
       "      <td>1.516912</td>\n",
       "      <td>0.858131</td>\n",
       "      <td>0.620071</td>\n",
       "      <td>0.290549</td>\n",
       "      <td>0.367007</td>\n",
       "      <td>2.276716</td>\n",
       "    </tr>\n",
       "    <tr>\n",
       "      <th>4</th>\n",
       "      <td>Finland</td>\n",
       "      <td>5</td>\n",
       "      <td>7.469</td>\n",
       "      <td>7.527542</td>\n",
       "      <td>7.410458</td>\n",
       "      <td>1.443572</td>\n",
       "      <td>1.540247</td>\n",
       "      <td>0.809158</td>\n",
       "      <td>0.617951</td>\n",
       "      <td>0.245483</td>\n",
       "      <td>0.382612</td>\n",
       "      <td>2.430182</td>\n",
       "    </tr>\n",
       "  </tbody>\n",
       "</table>\n",
       "</div>"
      ],
      "text/plain": [
       "       country  rank  score      high       low       gdp    family    lifexp  \\\n",
       "0       Norway     1  7.537  7.594445  7.479556  1.616463  1.533524  0.796667   \n",
       "1      Denmark     2  7.522  7.581728  7.462272  1.482383  1.551122  0.792566   \n",
       "2      Iceland     3  7.504  7.622030  7.385970  1.480633  1.610574  0.833552   \n",
       "3  Switzerland     4  7.494  7.561772  7.426227  1.564980  1.516912  0.858131   \n",
       "4      Finland     5  7.469  7.527542  7.410458  1.443572  1.540247  0.809158   \n",
       "\n",
       "    freedom  generosity  corruption  dystopia  \n",
       "0  0.635423    0.362012    0.315964  2.277027  \n",
       "1  0.626007    0.355280    0.400770  2.313707  \n",
       "2  0.627163    0.475540    0.153527  2.322715  \n",
       "3  0.620071    0.290549    0.367007  2.276716  \n",
       "4  0.617951    0.245483    0.382612  2.430182  "
      ]
     },
     "execution_count": 7,
     "metadata": {},
     "output_type": "execute_result"
    }
   ],
   "source": [
    "path_happiness = str(DATA_RAW_DIR / \"happiness.csv\")\n",
    "print(Path(path_happiness).exists())\n",
    "df_happiness = pd.read_csv(path_happiness, sep=\",\", encoding=\"utf-8\")\n",
    "df_happiness.head()"
   ]
  },
  {
   "cell_type": "code",
   "execution_count": 8,
   "id": "4cc9bc7f",
   "metadata": {},
   "outputs": [
    {
     "data": {
      "text/plain": [
       "Index(['country', 'rank', 'score', 'high', 'low', 'gdp', 'family', 'lifexp',\n",
       "       'freedom', 'generosity', 'corruption', 'dystopia'],\n",
       "      dtype='object')"
      ]
     },
     "execution_count": 8,
     "metadata": {},
     "output_type": "execute_result"
    }
   ],
   "source": [
    "df_happiness.columns"
   ]
  },
  {
   "cell_type": "code",
   "execution_count": 10,
   "id": "3a8046a6",
   "metadata": {},
   "outputs": [
    {
     "name": "stdout",
     "output_type": "stream",
     "text": [
      "Fitting 5 folds for each of 30 candidates, totalling 150 fits\n",
      "\n",
      "✅ Randomized Search completed successfully\n",
      "🔧 Best Parameters: {'n_estimators': np.int64(12), 'min_samples_split': np.int64(2), 'min_samples_leaf': np.int64(1), 'max_features': 'sqrt', 'max_depth': np.int64(9), 'criterion': 'squared_error'}\n",
      "📈 Test Mean Squared Error (MSE): 0.0070\n",
      "🎯 Test R² Score: 0.9940\n"
     ]
    }
   ],
   "source": [
    "\n",
    "\n",
    "# 1. Feature matrix and target\n",
    "X = df_happiness.drop(columns=[\"country\", \"score\", \"rank\"], axis=1)\n",
    "y = df_happiness[\"score\"]\n",
    "\n",
    "# 2. Train/Test split\n",
    "X_train, X_test, y_train, y_test = train_test_split(X, y, test_size=0.25, random_state=42)\n",
    "\n",
    "# 3. Hyperparameter distributions\n",
    "param_distributions = {\n",
    "    'n_estimators': np.arange(1, 15, 1),\n",
    "    'max_depth': [None] + list(np.arange(1, 15, 1)),\n",
    "    'criterion': ['squared_error', 'absolute_error'],\n",
    "    'min_samples_split': np.arange(2, 11, 2),\n",
    "    'min_samples_leaf': np.arange(1, 5),\n",
    "    'max_features': ['sqrt', 'log2'] \n",
    "}\n",
    "\n",
    "# 4. Base model\n",
    "model_rf = RandomForestRegressor(random_state=42)\n",
    "\n",
    "# 5. Randomized Search CV\n",
    "random_search = RandomizedSearchCV(\n",
    "    estimator=model_rf,\n",
    "    param_distributions=param_distributions,\n",
    "    n_iter=30,\n",
    "    scoring='neg_mean_squared_error',\n",
    "    cv=5,\n",
    "    verbose=1,\n",
    "    random_state=42,\n",
    "    n_jobs=-1\n",
    ")\n",
    "\n",
    "# 6. Fit to training set\n",
    "random_search.fit(X_train, y_train)\n",
    "\n",
    "# 7. Best estimator evaluation on test set\n",
    "best_model = random_search.best_estimator_\n",
    "y_pred = best_model.predict(X_test)\n",
    "\n",
    "mse = mean_squared_error(y_test, y_pred)\n",
    "r2 = r2_score(y_test, y_pred)\n",
    "\n",
    "# 8. Print results\n",
    "print(\"\\n✅ Randomized Search completed successfully\")\n",
    "print(\"🔧 Best Parameters:\", random_search.best_params_)\n",
    "print(\"📈 Test Mean Squared Error (MSE):\", f\"{mse:.4f}\")\n",
    "print(\"🎯 Test R² Score:\", f\"{r2:.4f}\")\n"
   ]
  },
  {
   "cell_type": "code",
   "execution_count": 13,
   "id": "fb73e92e",
   "metadata": {},
   "outputs": [
    {
     "data": {
      "image/png": "[encoded data removed]",
      "text/plain": [
       "<Figure size 800x200 with 1 Axes>"
      ]
     },
     "metadata": {},
     "output_type": "display_data"
    }
   ],
   "source": [
    "# visualization of best hyperparameters as a table\n",
    "plt.figure(figsize=(8, 2))\n",
    "sns.set(font_scale=1.2)\n",
    "table_data = [[k, v] for k, v in random_search.best_params_.items()]\n",
    "table = plt.table(cellText=table_data, colLabels=[\"Hyperparameter\", \"Value\"], loc=\"center\", cellLoc=\"center\")\n",
    "table.scale(1, 2)\n",
    "plt.axis(\"off\")\n",
    "plt.title(\"Best Hyperparameters from Randomized Search\")\n",
    "plt.show()\n"
   ]
  },
  {
   "cell_type": "code",
   "execution_count": null,
   "id": "79f93507",
   "metadata": {},
   "outputs": [
    {
     "data": {
      "image/png": "[encoded data removed]",
      "text/plain": [
       "<Figure size 1000x600 with 1 Axes>"
      ]
     },
     "metadata": {},
     "output_type": "display_data"
    }
   ],
   "source": [
    "# visualization feature importances\n",
    "plt.figure(figsize=(10, 6))\n",
    "feature_importances = pd.Series(best_model.feature_importances_, index=X.columns) # type: ignore\n",
    "feature_importances.sort_values(ascending=False).plot(kind='barh')\n",
    "plt.title(\"Feature Importances from Random Forest\")\n",
    "plt.xlabel(\"Importance Score\")\n",
    "plt.ylabel(\"Features\")\n",
    "plt.show()"
   ]
  },
  {
   "cell_type": "code",
   "execution_count": null,
   "id": "8c84a525",
   "metadata": {},
   "outputs": [],
   "source": []
  }
 ],
 "metadata": {
  "kernelspec": {
   "display_name": "ml-py3.12",
   "language": "python",
   "name": "python3"
  },
  "language_info": {
   "codemirror_mode": {
    "name": "ipython",
    "version": 3
   },
   "file_extension": ".py",
   "mimetype": "text/x-python",
   "name": "python",
   "nbconvert_exporter": "python",
   "pygments_lexer": "ipython3",
   "version": "3.12.2"
  }
 },
 "nbformat": 4,
 "nbformat_minor": 5
}
