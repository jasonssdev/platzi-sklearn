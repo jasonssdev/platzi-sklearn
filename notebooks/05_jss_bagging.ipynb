{
 "cells": [
  {
   "cell_type": "code",
   "execution_count": 1,
   "id": "ce56ceaa",
   "metadata": {},
   "outputs": [],
   "source": [
    "import pandas as pd\n",
    "import numpy as np\n",
    "import matplotlib.pyplot as plt\n",
    "import seaborn as sns\n",
    "from sklearn.decomposition import PCA, KernelPCA\n",
    "from sklearn.decomposition import IncrementalPCA\n",
    "from sklearn.preprocessing import StandardScaler\n",
    "from sklearn.model_selection import train_test_split\n",
    "from pathlib import Path\n",
    "from sklearn.metrics import classification_report, confusion_matrix, accuracy_score, mean_squared_error\n",
    "from sklearn.linear_model import LogisticRegression, LinearRegression, Lasso, Ridge, ElasticNet, RANSACRegressor, HuberRegressor\n",
    "from sklearn.svm import SVR\n",
    "\n",
    "from sklearn.neighbors import KNeighborsClassifier\n",
    "from sklearn.ensemble import BaggingClassifier\n",
    "\n",
    "from utils.paths import DATA_RAW_DIR"
   ]
  },
  {
   "cell_type": "code",
   "execution_count": 2,
   "id": "94d5adf4",
   "metadata": {},
   "outputs": [
    {
     "name": "stdout",
     "output_type": "stream",
     "text": [
      "True\n"
     ]
    }
   ],
   "source": [
    "path_heart = str(DATA_RAW_DIR / \"heart.csv\")\n",
    "print(Path(path_heart).exists())"
   ]
  },
  {
   "cell_type": "code",
   "execution_count": 3,
   "id": "d7339e70",
   "metadata": {},
   "outputs": [
    {
     "data": {
      "application/vnd.microsoft.datawrangler.viewer.v0+json": {
       "columns": [
        {
         "name": "index",
         "rawType": "int64",
         "type": "integer"
        },
        {
         "name": "age",
         "rawType": "int64",
         "type": "integer"
        },
        {
         "name": "sex",
         "rawType": "int64",
         "type": "integer"
        },
        {
         "name": "cp",
         "rawType": "int64",
         "type": "integer"
        },
        {
         "name": "trestbps",
         "rawType": "int64",
         "type": "integer"
        },
        {
         "name": "chol",
         "rawType": "int64",
         "type": "integer"
        },
        {
         "name": "fbs",
         "rawType": "int64",
         "type": "integer"
        },
        {
         "name": "restecg",
         "rawType": "int64",
         "type": "integer"
        },
        {
         "name": "thalach",
         "rawType": "int64",
         "type": "integer"
        },
        {
         "name": "exang",
         "rawType": "int64",
         "type": "integer"
        },
        {
         "name": "oldpeak",
         "rawType": "float64",
         "type": "float"
        },
        {
         "name": "slope",
         "rawType": "int64",
         "type": "integer"
        },
        {
         "name": "ca",
         "rawType": "int64",
         "type": "integer"
        },
        {
         "name": "thal",
         "rawType": "int64",
         "type": "integer"
        },
        {
         "name": "target",
         "rawType": "int64",
         "type": "integer"
        }
       ],
       "ref": "9bd4fbb2-d9bf-43d8-9f9f-284883c87cff",
       "rows": [
        [
         "0",
         "52",
         "1",
         "0",
         "125",
         "212",
         "0",
         "1",
         "168",
         "0",
         "1.0",
         "2",
         "2",
         "3",
         "0"
        ],
        [
         "1",
         "53",
         "1",
         "0",
         "140",
         "203",
         "1",
         "0",
         "155",
         "1",
         "3.1",
         "0",
         "0",
         "3",
         "0"
        ],
        [
         "2",
         "70",
         "1",
         "0",
         "145",
         "174",
         "0",
         "1",
         "125",
         "1",
         "2.6",
         "0",
         "0",
         "3",
         "0"
        ],
        [
         "3",
         "61",
         "1",
         "0",
         "148",
         "203",
         "0",
         "1",
         "161",
         "0",
         "0.0",
         "2",
         "1",
         "3",
         "0"
        ],
        [
         "4",
         "62",
         "0",
         "0",
         "138",
         "294",
         "1",
         "1",
         "106",
         "0",
         "1.9",
         "1",
         "3",
         "2",
         "0"
        ]
       ],
       "shape": {
        "columns": 14,
        "rows": 5
       }
      },
      "text/html": [
       "<div>\n",
       "<style scoped>\n",
       "    .dataframe tbody tr th:only-of-type {\n",
       "        vertical-align: middle;\n",
       "    }\n",
       "\n",
       "    .dataframe tbody tr th {\n",
       "        vertical-align: top;\n",
       "    }\n",
       "\n",
       "    .dataframe thead th {\n",
       "        text-align: right;\n",
       "    }\n",
       "</style>\n",
       "<table border=\"1\" class=\"dataframe\">\n",
       "  <thead>\n",
       "    <tr style=\"text-align: right;\">\n",
       "      <th></th>\n",
       "      <th>age</th>\n",
       "      <th>sex</th>\n",
       "      <th>cp</th>\n",
       "      <th>trestbps</th>\n",
       "      <th>chol</th>\n",
       "      <th>fbs</th>\n",
       "      <th>restecg</th>\n",
       "      <th>thalach</th>\n",
       "      <th>exang</th>\n",
       "      <th>oldpeak</th>\n",
       "      <th>slope</th>\n",
       "      <th>ca</th>\n",
       "      <th>thal</th>\n",
       "      <th>target</th>\n",
       "    </tr>\n",
       "  </thead>\n",
       "  <tbody>\n",
       "    <tr>\n",
       "      <th>0</th>\n",
       "      <td>52</td>\n",
       "      <td>1</td>\n",
       "      <td>0</td>\n",
       "      <td>125</td>\n",
       "      <td>212</td>\n",
       "      <td>0</td>\n",
       "      <td>1</td>\n",
       "      <td>168</td>\n",
       "      <td>0</td>\n",
       "      <td>1.0</td>\n",
       "      <td>2</td>\n",
       "      <td>2</td>\n",
       "      <td>3</td>\n",
       "      <td>0</td>\n",
       "    </tr>\n",
       "    <tr>\n",
       "      <th>1</th>\n",
       "      <td>53</td>\n",
       "      <td>1</td>\n",
       "      <td>0</td>\n",
       "      <td>140</td>\n",
       "      <td>203</td>\n",
       "      <td>1</td>\n",
       "      <td>0</td>\n",
       "      <td>155</td>\n",
       "      <td>1</td>\n",
       "      <td>3.1</td>\n",
       "      <td>0</td>\n",
       "      <td>0</td>\n",
       "      <td>3</td>\n",
       "      <td>0</td>\n",
       "    </tr>\n",
       "    <tr>\n",
       "      <th>2</th>\n",
       "      <td>70</td>\n",
       "      <td>1</td>\n",
       "      <td>0</td>\n",
       "      <td>145</td>\n",
       "      <td>174</td>\n",
       "      <td>0</td>\n",
       "      <td>1</td>\n",
       "      <td>125</td>\n",
       "      <td>1</td>\n",
       "      <td>2.6</td>\n",
       "      <td>0</td>\n",
       "      <td>0</td>\n",
       "      <td>3</td>\n",
       "      <td>0</td>\n",
       "    </tr>\n",
       "    <tr>\n",
       "      <th>3</th>\n",
       "      <td>61</td>\n",
       "      <td>1</td>\n",
       "      <td>0</td>\n",
       "      <td>148</td>\n",
       "      <td>203</td>\n",
       "      <td>0</td>\n",
       "      <td>1</td>\n",
       "      <td>161</td>\n",
       "      <td>0</td>\n",
       "      <td>0.0</td>\n",
       "      <td>2</td>\n",
       "      <td>1</td>\n",
       "      <td>3</td>\n",
       "      <td>0</td>\n",
       "    </tr>\n",
       "    <tr>\n",
       "      <th>4</th>\n",
       "      <td>62</td>\n",
       "      <td>0</td>\n",
       "      <td>0</td>\n",
       "      <td>138</td>\n",
       "      <td>294</td>\n",
       "      <td>1</td>\n",
       "      <td>1</td>\n",
       "      <td>106</td>\n",
       "      <td>0</td>\n",
       "      <td>1.9</td>\n",
       "      <td>1</td>\n",
       "      <td>3</td>\n",
       "      <td>2</td>\n",
       "      <td>0</td>\n",
       "    </tr>\n",
       "  </tbody>\n",
       "</table>\n",
       "</div>"
      ],
      "text/plain": [
       "   age  sex  cp  trestbps  chol  fbs  restecg  thalach  exang  oldpeak  slope  \\\n",
       "0   52    1   0       125   212    0        1      168      0      1.0      2   \n",
       "1   53    1   0       140   203    1        0      155      1      3.1      0   \n",
       "2   70    1   0       145   174    0        1      125      1      2.6      0   \n",
       "3   61    1   0       148   203    0        1      161      0      0.0      2   \n",
       "4   62    0   0       138   294    1        1      106      0      1.9      1   \n",
       "\n",
       "   ca  thal  target  \n",
       "0   2     3       0  \n",
       "1   0     3       0  \n",
       "2   0     3       0  \n",
       "3   1     3       0  \n",
       "4   3     2       0  "
      ]
     },
     "execution_count": 3,
     "metadata": {},
     "output_type": "execute_result"
    }
   ],
   "source": [
    "df_heart = pd.read_csv(path_heart, sep=\",\", encoding=\"utf-8\")\n",
    "df_heart.head()"
   ]
  },
  {
   "cell_type": "code",
   "execution_count": 4,
   "id": "e9ac2368",
   "metadata": {},
   "outputs": [],
   "source": [
    "X = df_heart.drop(columns=[\"target\"], axis=1)\n",
    "y = df_heart[\"target\"]\n",
    "\n",
    "X_train, X_test, y_train, y_test = train_test_split(X, y, test_size=0.35, random_state=42)"
   ]
  },
  {
   "cell_type": "code",
   "execution_count": 5,
   "id": "462231dc",
   "metadata": {},
   "outputs": [
    {
     "name": "stdout",
     "output_type": "stream",
     "text": [
      "0.6908077994428969\n",
      "[[127  53]\n",
      " [ 58 121]]\n",
      "              precision    recall  f1-score   support\n",
      "\n",
      "           0       0.69      0.71      0.70       180\n",
      "           1       0.70      0.68      0.69       179\n",
      "\n",
      "    accuracy                           0.69       359\n",
      "   macro avg       0.69      0.69      0.69       359\n",
      "weighted avg       0.69      0.69      0.69       359\n",
      "\n"
     ]
    }
   ],
   "source": [
    "model_knn = KNeighborsClassifier()\n",
    "model_knn.fit(X_train, y_train)\n",
    "y_pred_knn = model_knn.predict(X_test)\n",
    "print(accuracy_score(y_test, y_pred_knn))\n",
    "print(confusion_matrix(y_test, y_pred_knn))\n",
    "print(classification_report(y_test, y_pred_knn))"
   ]
  },
  {
   "cell_type": "code",
   "execution_count": 6,
   "id": "5cf2cf5d",
   "metadata": {},
   "outputs": [
    {
     "name": "stdout",
     "output_type": "stream",
     "text": [
      "0.7186629526462396\n",
      "[[131  49]\n",
      " [ 52 127]]\n",
      "              precision    recall  f1-score   support\n",
      "\n",
      "           0       0.72      0.73      0.72       180\n",
      "           1       0.72      0.71      0.72       179\n",
      "\n",
      "    accuracy                           0.72       359\n",
      "   macro avg       0.72      0.72      0.72       359\n",
      "weighted avg       0.72      0.72      0.72       359\n",
      "\n"
     ]
    }
   ],
   "source": [
    "model_bagging = BaggingClassifier(\n",
    "    estimator=model_knn,\n",
    "    n_estimators=50\n",
    ")\n",
    "model_bagging.fit(X_train, y_train)\n",
    "y_pred_bagging = model_bagging.predict(X_test)\n",
    "print(accuracy_score(y_test, y_pred_bagging))\n",
    "print(confusion_matrix(y_test, y_pred_bagging))\n",
    "print(classification_report(y_test, y_pred_bagging))"
   ]
  },
  {
   "cell_type": "markdown",
   "id": "2202c4db",
   "metadata": {},
   "source": [
    "# Chat GPT Recommendation"
   ]
  },
  {
   "cell_type": "code",
   "execution_count": 7,
   "id": "9e7efd2d",
   "metadata": {},
   "outputs": [
    {
     "name": "stdout",
     "output_type": "stream",
     "text": [
      "🔍 Best KNN Parameters: {'knn__n_neighbors': 5, 'knn__p': 1, 'knn__weights': 'distance'}\n",
      "✅ KNN Accuracy: 0.9721448467966574\n",
      "              precision    recall  f1-score   support\n",
      "\n",
      "           0       0.97      0.98      0.97       175\n",
      "           1       0.98      0.97      0.97       184\n",
      "\n",
      "    accuracy                           0.97       359\n",
      "   macro avg       0.97      0.97      0.97       359\n",
      "weighted avg       0.97      0.97      0.97       359\n",
      "\n"
     ]
    }
   ],
   "source": [
    "from sklearn.model_selection import train_test_split, GridSearchCV\n",
    "from sklearn.neighbors import KNeighborsClassifier\n",
    "from sklearn.ensemble import BaggingClassifier\n",
    "from sklearn.pipeline import Pipeline\n",
    "from sklearn.preprocessing import StandardScaler\n",
    "from sklearn.metrics import classification_report\n",
    "import warnings\n",
    "\n",
    "warnings.filterwarnings(\"ignore\")  # Oculta warnings innecesarios\n",
    "\n",
    "# 1. Separar features y target\n",
    "X = df_heart.drop(columns=[\"target\"])\n",
    "y = df_heart[\"target\"]\n",
    "\n",
    "# 2. Dividir los datos (con estratificación para balance de clases)\n",
    "X_train, X_test, y_train, y_test = train_test_split(\n",
    "    X, y, test_size=0.35, stratify=y, random_state=42\n",
    ")\n",
    "\n",
    "# 3. Crear pipeline con escalado y modelo base KNN\n",
    "pipe_knn = Pipeline([\n",
    "    (\"scaler\", StandardScaler()),\n",
    "    (\"knn\", KNeighborsClassifier())\n",
    "])\n",
    "\n",
    "# 4. Definir hiperparámetros a tunear\n",
    "param_grid_knn = {\n",
    "    \"knn__n_neighbors\": [3, 5, 7],\n",
    "    \"knn__weights\": [\"uniform\", \"distance\"],\n",
    "    \"knn__p\": [1, 2]  # 1 = Manhattan, 2 = Euclidean\n",
    "}\n",
    "\n",
    "# 5. Hacer GridSearchCV con validación cruzada\n",
    "grid_knn = GridSearchCV(pipe_knn, param_grid_knn, cv=5, scoring=\"accuracy\", n_jobs=-1)\n",
    "grid_knn.fit(X_train, y_train)\n",
    "\n",
    "# 6. Evaluar el mejor modelo KNN\n",
    "print(\"🔍 Best KNN Parameters:\", grid_knn.best_params_)\n",
    "print(\"✅ KNN Accuracy:\", grid_knn.score(X_test, y_test))\n",
    "print(classification_report(y_test, grid_knn.predict(X_test)))"
   ]
  },
  {
   "cell_type": "code",
   "execution_count": 8,
   "id": "5bfb9ed0",
   "metadata": {},
   "outputs": [
    {
     "name": "stdout",
     "output_type": "stream",
     "text": [
      "🔍 Best Bagging Parameters: {'bagging__bootstrap': False, 'bagging__max_samples': 0.8, 'bagging__n_estimators': 30}\n",
      "✅ Bagging Accuracy: 0.9721448467966574\n",
      "              precision    recall  f1-score   support\n",
      "\n",
      "           0       0.97      0.98      0.97       175\n",
      "           1       0.98      0.97      0.97       184\n",
      "\n",
      "    accuracy                           0.97       359\n",
      "   macro avg       0.97      0.97      0.97       359\n",
      "weighted avg       0.97      0.97      0.97       359\n",
      "\n"
     ]
    }
   ],
   "source": [
    "# 8. Crear Bagging con el mejor KNN\n",
    "best_knn = grid_knn.best_estimator_.named_steps[\"knn\"]\n",
    "\n",
    "pipe_bagging = Pipeline([\n",
    "    (\"scaler\", StandardScaler()),\n",
    "    (\"bagging\", BaggingClassifier(estimator=best_knn, random_state=42))\n",
    "])\n",
    "\n",
    "# 9. Hiperparámetros de Bagging\n",
    "param_grid_bagging = {\n",
    "    \"bagging__n_estimators\": [10, 30, 50],\n",
    "    \"bagging__max_samples\": [0.8, 1.0],\n",
    "    \"bagging__bootstrap\": [True, False]\n",
    "}\n",
    "\n",
    "grid_bagging = GridSearchCV(pipe_bagging, param_grid_bagging, cv=5, scoring=\"accuracy\", n_jobs=-1)\n",
    "grid_bagging.fit(X_train, y_train)\n",
    "\n",
    "# 10. Evaluar el mejor modelo Bagging\n",
    "print(\"🔍 Best Bagging Parameters:\", grid_bagging.best_params_)\n",
    "print(\"✅ Bagging Accuracy:\", grid_bagging.score(X_test, y_test))\n",
    "print(classification_report(y_test, grid_bagging.predict(X_test)))"
   ]
  },
  {
   "cell_type": "code",
   "execution_count": null,
   "id": "9d2706b9",
   "metadata": {},
   "outputs": [],
   "source": []
  }
 ],
 "metadata": {
  "kernelspec": {
   "display_name": "ml-py3.12",
   "language": "python",
   "name": "python3"
  },
  "language_info": {
   "codemirror_mode": {
    "name": "ipython",
    "version": 3
   },
   "file_extension": ".py",
   "mimetype": "text/x-python",
   "name": "python",
   "nbconvert_exporter": "python",
   "pygments_lexer": "ipython3",
   "version": "3.12.2"
  }
 },
 "nbformat": 4,
 "nbformat_minor": 5
}
